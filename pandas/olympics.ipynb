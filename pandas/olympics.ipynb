{
 "cells": [
  {
   "cell_type": "code",
   "execution_count": 1,
   "metadata": {},
   "outputs": [],
   "source": [
    "import pandas as pd"
   ]
  },
  {
   "cell_type": "code",
   "execution_count": 3,
   "metadata": {},
   "outputs": [
    {
     "name": "stdout",
     "output_type": "stream",
     "text": [
      "          City  Edition      Sport       Discipline               Athlete  \\\n",
      "0       Athens     1896   Aquatics         Swimming         HAJOS, Alfred   \n",
      "1       Athens     1896   Aquatics         Swimming      HERSCHMANN, Otto   \n",
      "2       Athens     1896   Aquatics         Swimming     DRIVAS, Dimitrios   \n",
      "3       Athens     1896   Aquatics         Swimming    MALOKINIS, Ioannis   \n",
      "4       Athens     1896   Aquatics         Swimming    CHASAPIS, Spiridon   \n",
      "...        ...      ...        ...              ...                   ...   \n",
      "29211  Beijing     2008  Wrestling  Wrestling Gre-R        ENGLICH, Mirko   \n",
      "29212  Beijing     2008  Wrestling  Wrestling Gre-R  MIZGAITIS, Mindaugas   \n",
      "29213  Beijing     2008  Wrestling  Wrestling Gre-R       PATRIKEEV, Yuri   \n",
      "29214  Beijing     2008  Wrestling  Wrestling Gre-R         LOPEZ, Mijain   \n",
      "29215  Beijing     2008  Wrestling  Wrestling Gre-R        BAROEV, Khasan   \n",
      "\n",
      "       NOC Gender                       Event Event_gender   Medal  \n",
      "0      HUN    Men              100m freestyle            M    Gold  \n",
      "1      AUT    Men              100m freestyle            M  Silver  \n",
      "2      GRE    Men  100m freestyle for sailors            M  Bronze  \n",
      "3      GRE    Men  100m freestyle for sailors            M    Gold  \n",
      "4      GRE    Men  100m freestyle for sailors            M  Silver  \n",
      "...    ...    ...                         ...          ...     ...  \n",
      "29211  GER    Men                   84 - 96kg            M  Silver  \n",
      "29212  LTU    Men                  96 - 120kg            M  Bronze  \n",
      "29213  ARM    Men                  96 - 120kg            M  Bronze  \n",
      "29214  CUB    Men                  96 - 120kg            M    Gold  \n",
      "29215  RUS    Men                  96 - 120kg            M  Silver  \n",
      "\n",
      "[29216 rows x 10 columns]\n"
     ]
    }
   ],
   "source": [
    "#read the csv file \n",
    "olympics_data = pd.read_csv('../data/olympics.csv',skiprows=4)\n",
    "print(olympics_data)"
   ]
  },
  {
   "cell_type": "code",
   "execution_count": 4,
   "metadata": {},
   "outputs": [
    {
     "data": {
      "text/plain": [
       "(29216, 10)"
      ]
     },
     "execution_count": 4,
     "metadata": {},
     "output_type": "execute_result"
    }
   ],
   "source": [
    "olympics_data.shape\n"
   ]
  },
  {
   "cell_type": "code",
   "execution_count": 5,
   "metadata": {},
   "outputs": [
    {
     "data": {
      "text/plain": [
       "2008    2042\n",
       "2000    2015\n",
       "2004    1998\n",
       "1996    1859\n",
       "1992    1705\n",
       "1988    1546\n",
       "1984    1459\n",
       "1980    1387\n",
       "1976    1305\n",
       "1920    1298\n",
       "1972    1185\n",
       "1968    1031\n",
       "1964    1010\n",
       "1952     889\n",
       "1912     885\n",
       "1956     885\n",
       "1924     884\n",
       "1960     882\n",
       "1936     875\n",
       "1948     814\n",
       "1908     804\n",
       "1928     710\n",
       "1932     615\n",
       "1900     512\n",
       "1904     470\n",
       "1896     151\n",
       "Name: Edition, dtype: int64"
      ]
     },
     "execution_count": 5,
     "metadata": {},
     "output_type": "execute_result"
    }
   ],
   "source": [
    "#how many medals are presented in the olympics\n",
    "olympics_data.Edition.value_counts()"
   ]
  },
  {
   "cell_type": "code",
   "execution_count": 6,
   "metadata": {},
   "outputs": [
    {
     "data": {
      "text/plain": [
       "Men      21721\n",
       "Women     7495\n",
       "Name: Gender, dtype: int64"
      ]
     },
     "execution_count": 6,
     "metadata": {},
     "output_type": "execute_result"
    }
   ],
   "source": [
    "#how many men versus woman get the medal\n",
    "olympics_data.Gender.value_counts()"
   ]
  },
  {
   "cell_type": "code",
   "execution_count": 7,
   "metadata": {},
   "outputs": [
    {
     "data": {
      "text/plain": [
       "USA    4335\n",
       "URS    2049\n",
       "GBR    1594\n",
       "FRA    1314\n",
       "ITA    1228\n",
       "       ... \n",
       "GUY       1\n",
       "TGA       1\n",
       "DJI       1\n",
       "MRI       1\n",
       "TOG       1\n",
       "Name: NOC, Length: 138, dtype: int64"
      ]
     },
     "execution_count": 7,
     "metadata": {},
     "output_type": "execute_result"
    }
   ],
   "source": [
    "#how much each country get the medal\n",
    "olympics_data.NOC.value_counts()"
   ]
  },
  {
   "cell_type": "code",
   "execution_count": 17,
   "metadata": {},
   "outputs": [
    {
     "data": {
      "text/plain": [
       "0      False\n",
       "1      False\n",
       "2      False\n",
       "3      False\n",
       "4      False\n",
       "       ...  \n",
       "VIE    False\n",
       "YUG    False\n",
       "ZAM    False\n",
       "ZIM    False\n",
       "ZZX    False\n",
       "Name: NOC, Length: 29354, dtype: bool"
      ]
     },
     "execution_count": 17,
     "metadata": {},
     "output_type": "execute_result"
    }
   ],
   "source": [
    "(olympics_data.NOC.value_counts() > 3000) & (olympics_data.NOC.str.contains('US'))"
   ]
  },
  {
   "cell_type": "code",
   "execution_count": null,
   "metadata": {},
   "outputs": [],
   "source": []
  }
 ],
 "metadata": {
  "kernelspec": {
   "display_name": "Python 3",
   "language": "python",
   "name": "python3"
  },
  "language_info": {
   "codemirror_mode": {
    "name": "ipython",
    "version": 3
   },
   "file_extension": ".py",
   "mimetype": "text/x-python",
   "name": "python",
   "nbconvert_exporter": "python",
   "pygments_lexer": "ipython3",
   "version": "3.8.3"
  }
 },
 "nbformat": 4,
 "nbformat_minor": 4
}
